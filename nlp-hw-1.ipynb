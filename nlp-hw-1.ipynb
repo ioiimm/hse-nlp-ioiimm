{
 "cells": [
  {
   "cell_type": "markdown",
   "id": "7b09a742",
   "metadata": {},
   "source": [
    "- [Здесь](https://www.kinopoisk.ru/reviews/type/comment/status/good/period/month/perpage/100/#list) положительные отзывы.\n",
    "- А [здесь](https://www.kinopoisk.ru/reviews/type/comment/status/bad/period/month/perpage/100/#list) отрицательные."
   ]
  },
  {
   "cell_type": "code",
   "execution_count": 34,
   "id": "2d792ac2",
   "metadata": {},
   "outputs": [],
   "source": [
    "import requests\n",
    "from fake_useragent import UserAgent\n",
    "import random\n",
    "import sqlite3\n",
    "from bs4 import BeautifulSoup"
   ]
  },
  {
   "cell_type": "code",
   "execution_count": 35,
   "id": "eb0e9204",
   "metadata": {},
   "outputs": [],
   "source": [
    "import nltk\n",
    "from nltk.tokenize import word_tokenize"
   ]
  },
  {
   "cell_type": "code",
   "execution_count": 36,
   "id": "dac0f988",
   "metadata": {},
   "outputs": [],
   "source": [
    "from pymorphy2 import MorphAnalyzer\n",
    "morph = MorphAnalyzer()"
   ]
  },
  {
   "cell_type": "code",
   "execution_count": 37,
   "id": "f3e0b143",
   "metadata": {},
   "outputs": [],
   "source": [
    "from collections import Counter"
   ]
  },
  {
   "cell_type": "code",
   "execution_count": 38,
   "id": "a3e519c1",
   "metadata": {},
   "outputs": [],
   "source": [
    "from nltk.corpus import stopwords\n",
    "sw = stopwords.words('russian')"
   ]
  },
  {
   "cell_type": "code",
   "execution_count": 39,
   "id": "7024e84d",
   "metadata": {},
   "outputs": [],
   "source": [
    "from sklearn.metrics import accuracy_score"
   ]
  },
  {
   "cell_type": "code",
   "execution_count": 40,
   "id": "c9fe2c9c",
   "metadata": {},
   "outputs": [],
   "source": [
    "# парсинг отзывов с кинопоиска -- одностраничный\n",
    "def parse_reviews(url):\n",
    "    session = requests.session()\n",
    "    ua = UserAgent(verify_ssl=False)\n",
    "    req = session.get(url, headers={'User-Agent': ua.random})\n",
    "    page = req.text\n",
    "    soup = BeautifulSoup(page, 'html.parser')\n",
    "    reviews = soup.find_all('div', {'class': 'brand_words'})\n",
    "    reviews_prs = ''\n",
    "    for i in range(0, len(reviews)):\n",
    "        reviews_prs += ' ' + reviews[i].find('p').text\n",
    "    return reviews_prs"
   ]
  },
  {
   "cell_type": "code",
   "execution_count": 41,
   "id": "019087c3",
   "metadata": {},
   "outputs": [],
   "source": [
    "# очистка от знаков препинания и стоп-слов\n",
    "def clean_tokenizer(reviews_prs):\n",
    "    words_cltok = []\n",
    "    for i in word_tokenize(reviews_prs.lower()):\n",
    "        if i.strip('…').isalpha() and i.strip('…') not in sw:\n",
    "            words_cltok.append(morph.parse(i)[0].normal_form)\n",
    "    return words_cltok"
   ]
  },
  {
   "cell_type": "code",
   "execution_count": 42,
   "id": "38ea80f0",
   "metadata": {},
   "outputs": [],
   "source": [
    "# фильтр слов по частотности\n",
    "def word_filter(words_cltok):\n",
    "    prs_dct = dict(Counter(words_cltok).most_common())\n",
    "    prs_filtered = []\n",
    "    for key, value in prs_dct.items():\n",
    "        if value > 2:\n",
    "            prs_filtered.append(key)\n",
    "    return prs_filtered"
   ]
  },
  {
   "cell_type": "code",
   "execution_count": 43,
   "id": "d0fbf998",
   "metadata": {},
   "outputs": [],
   "source": [
    "# парсинг с нескольких страниц\n",
    "# polarity -- good или bad\n",
    "# num -- номер страницы\n",
    "def get_pages(num, polarity):\n",
    "    pol_reviews = ''\n",
    "    for i in range(1, num+1):\n",
    "        url = f'https://www.kinopoisk.ru/reviews/type/comment/status/{polarity}/period/month/page/{num}/#list'\n",
    "        pol_reviews += ' ' + parse_reviews(url)\n",
    "    return pol_reviews"
   ]
  },
  {
   "cell_type": "code",
   "execution_count": 44,
   "id": "4bb9e888",
   "metadata": {},
   "outputs": [],
   "source": [
    "def get_words(all_reviews):\n",
    "    all_words = clean_tokenizer(all_reviews)\n",
    "    all_filtered = word_filter(all_words)\n",
    "    return all_filtered"
   ]
  },
  {
   "cell_type": "code",
   "execution_count": 45,
   "id": "3fb4727b",
   "metadata": {},
   "outputs": [],
   "source": [
    "# работает с двумя отфильтрованными множествами слов\n",
    "def unique_words(base, unneeded):\n",
    "    set_1 = set(base)\n",
    "    set_2 =set(unneeded)\n",
    "    needed = set_1 - set_2\n",
    "    return needed"
   ]
  },
  {
   "cell_type": "code",
   "execution_count": 46,
   "id": "06819725",
   "metadata": {},
   "outputs": [],
   "source": [
    "# парсинг отзывов по отдельности\n",
    "# функция для отзывов, на которых будет определяться accuracy\n",
    "def parse_separated(url):\n",
    "    sess = requests.session()\n",
    "    req = sess.get(url, headers={'User-Agent': UserAgent(verify_ssl=False).random})\n",
    "    page = req.text\n",
    "    soup = BeautifulSoup(page, 'html.parser')\n",
    "    revs = soup.find_all('div', {'class': 'brand_words'})\n",
    "    revs_sep = []\n",
    "    for i in range(0, len(revs)):\n",
    "        revs_sep.append(revs[i].find('p').text)\n",
    "    return revs_sep"
   ]
  },
  {
   "cell_type": "code",
   "execution_count": 47,
   "id": "38f50c1a",
   "metadata": {},
   "outputs": [],
   "source": [
    "# функция определяет отрицательный ли отзыв, положительный или нейтральный\n",
    "def review_polarity(one_review, pos_set, neg_set):\n",
    "    words_one = clean_tokenizer(one_review)\n",
    "    pos = 0\n",
    "    neg = 0\n",
    "    for w in words_one:\n",
    "        if w in pos_set:\n",
    "            pos += 1\n",
    "        elif w in neg_set:\n",
    "            neg += 1\n",
    "    if pos > neg:\n",
    "        return 'pos'\n",
    "    elif pos < neg:\n",
    "        return 'neg'\n",
    "    else:\n",
    "        return 'neutr'"
   ]
  },
  {
   "cell_type": "markdown",
   "id": "5a24dfd5",
   "metadata": {},
   "source": [
    "### 1. и 2. Скачивание даты, токенизация, приведение к начальной форме, фильтрация по частотности"
   ]
  },
  {
   "cell_type": "code",
   "execution_count": 50,
   "id": "30a2b87c",
   "metadata": {},
   "outputs": [],
   "source": [
    "# сбор слов для \"тонального словаря\" -- отдельно из положительных и из отрицательных отзывов\n",
    "positive = get_words(get_pages(27, 'good'))\n",
    "negative = get_words(get_pages(27, 'bad'))"
   ]
  },
  {
   "cell_type": "markdown",
   "id": "e952e6b6",
   "metadata": {},
   "source": [
    "10 отзывов на одной странице -- всего 540 (270 положительных и 270 отрицательных) отзывов."
   ]
  },
  {
   "cell_type": "markdown",
   "id": "0197244e",
   "metadata": {},
   "source": [
    "### 3. Составление двух множеств"
   ]
  },
  {
   "cell_type": "code",
   "execution_count": 52,
   "id": "e529ba55",
   "metadata": {},
   "outputs": [],
   "source": [
    "# слова, которые встречаются только в положительных или только в отрицательных отзывах\n",
    "positive_uniq = unique_words(positive, negative)\n",
    "negative_uniq = unique_words(negative, positive)"
   ]
  },
  {
   "cell_type": "markdown",
   "id": "ddfb707f",
   "metadata": {},
   "source": [
    "### 4. Скачивание отзывов для проверки, подсчет accuracy"
   ]
  },
  {
   "cell_type": "markdown",
   "id": "0721dfd8",
   "metadata": {},
   "source": [
    "7 отрицательных отзывов и 10 положительных."
   ]
  },
  {
   "cell_type": "code",
   "execution_count": 53,
   "id": "49393df4",
   "metadata": {},
   "outputs": [],
   "source": [
    "pos_test = parse_separated('https://www.kinopoisk.ru/reviews/type/comment/status/good/period/month/page/28/#list')\n",
    "neg_test = parse_separated('https://www.kinopoisk.ru/reviews/type/comment/status/bad/period/month/page/28/#list')\n",
    "all_test = pos_test + neg_test"
   ]
  },
  {
   "cell_type": "code",
   "execution_count": 54,
   "id": "4ef1fb4d",
   "metadata": {},
   "outputs": [],
   "source": [
    "rev_true = ['pos'] * len(pos_test) + ['neg'] * len(neg_test)\n",
    "rev_pred = []\n",
    "for r in all_test:\n",
    "    rev_pred.append(review_polarity(r, positive_uniq, negative_uniq))"
   ]
  },
  {
   "cell_type": "code",
   "execution_count": 55,
   "id": "ffbb62dd",
   "metadata": {},
   "outputs": [
    {
     "data": {
      "text/plain": [
       "0.47058823529411764"
      ]
     },
     "execution_count": 55,
     "metadata": {},
     "output_type": "execute_result"
    }
   ],
   "source": [
    "accuracy_score(rev_true, rev_pred)"
   ]
  },
  {
   "cell_type": "markdown",
   "id": "98485e64",
   "metadata": {},
   "source": [
    "### 5. Что можно добавить"
   ]
  },
  {
   "cell_type": "markdown",
   "id": "52d9e1ba",
   "metadata": {},
   "source": [
    "- можно добавить исправление орфографических ошибок, опечаток (чтобы 'хроший' приравнивался к 'хороший' или 'офигенный' к 'афигенный' -- хотя в последней паре скорее не исправление ошибки, а отнесение к какому-то одному общему варианту)\n",
    "- учитывать смайлики (если встречаются), определять к какому типу отзывов они относятся\n",
    "- сохранять отрицания (чтобы различать 'понравился' и 'не понравился' и не различать 'не плохой' и 'неплохой')"
   ]
  }
 ],
 "metadata": {
  "kernelspec": {
   "display_name": "Python 3 (ipykernel)",
   "language": "python",
   "name": "python3"
  },
  "language_info": {
   "codemirror_mode": {
    "name": "ipython",
    "version": 3
   },
   "file_extension": ".py",
   "mimetype": "text/x-python",
   "name": "python",
   "nbconvert_exporter": "python",
   "pygments_lexer": "ipython3",
   "version": "3.9.7"
  }
 },
 "nbformat": 4,
 "nbformat_minor": 5
}
