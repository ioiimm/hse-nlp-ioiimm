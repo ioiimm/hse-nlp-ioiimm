{
 "cells": [
  {
   "cell_type": "markdown",
   "id": "1039bf5a",
   "metadata": {},
   "source": [
    "## АвтОбрЕЯ: домашнее задание 2\n",
    "Елена Зайцева (БКЛ201)"
   ]
  },
  {
   "cell_type": "markdown",
   "id": "6df63fed",
   "metadata": {},
   "source": [
    "### 1. корпус\n",
    "- Размер [корпуса](https://docs.google.com/document/d/1EcFc3suDQ-EQi7Ft9J2dthMgPoAm1szYU7UHk9stEV8/edit?usp=sharing)  -- 373 слова.\n",
    "- В корпусе сложные для автоматического посттеггинга случаи (в основном для них pos-tagger должен хорошо анализировать контекст): \n",
    "    + неизвестные корни: кусочек от стихотворения \"Бармаглот\" Кэрролла с выдуманными словами (тут будет важно учитывать контекст и возможно смотреть на продуктивные аффиксы\n",
    "    + омонимичные пары (предлоги и наречия -- \"вблизи\", прилаг. и сущ. -- \"больные\", прич. и сущ. -- \"данные\")\n",
    "    + разные типы числительных, записанных цифрами (различение порядковых (как прил.) и количественных (как числ.) + римские цифры (обычно как прил.))\n",
    "    + имена собственные, фамилии, которые могут определяться как прил. или что-то другое, (Ленин, Кривошеин (как прил.), Шалтай-Болтай (как глаг.))\n",
    "    + всякие сокращения вроде \"г.\", \"ок.\", \"н. э.\", \"ГэВ\" + инициалы перед фамилией"
   ]
  },
  {
   "cell_type": "markdown",
   "id": "50eb899f",
   "metadata": {},
   "source": [
    "Для анализа взят тегсет [Universal POS tags](https://universaldependencies.org/u/pos/), так как он, кажется, часто используется теггерами (в частности, spacy и stanza), достаточно удобен для русского, не возникает трудности с тем, как размечать причастия, деепричастия, инфинитив (все обозначается как VERB).\n",
    "\n",
    "Были сделаны некоторые изменения: AUX заменен на VERB, CCONJ и SCONJ объединены в CONJ."
   ]
  },
  {
   "cell_type": "code",
   "execution_count": 91,
   "id": "816a5bb7",
   "metadata": {},
   "outputs": [],
   "source": [
    "import csv"
   ]
  },
  {
   "cell_type": "code",
   "execution_count": 92,
   "id": "56c9f00a",
   "metadata": {},
   "outputs": [],
   "source": [
    "with open('text-corpus.txt', 'r', encoding='utf-8') as f1:\n",
    "    text = f1.read()"
   ]
  },
  {
   "cell_type": "code",
   "execution_count": 107,
   "id": "6149e27f",
   "metadata": {},
   "outputs": [],
   "source": [
    "all_tok_pos = []\n",
    "with open('POS-corpus.tsv', 'r', newline='', encoding='utf-8') as f:\n",
    "    words_tsv = csv.reader(f, delimiter='\\t')\n",
    "    for l in words_tsv:\n",
    "        all_tok_pos.extend(l)"
   ]
  },
  {
   "cell_type": "code",
   "execution_count": 111,
   "id": "b3941411",
   "metadata": {},
   "outputs": [],
   "source": [
    "all_pos = []\n",
    "all_tok = []\n",
    "for i in range(1, len(all_tok_pos), 2):\n",
    "    all_pos.append(all_tok_pos[i])\n",
    "for i in range(0, len(all_tok_pos), 2):\n",
    "    all_tok.append(all_tok_pos[i])"
   ]
  },
  {
   "cell_type": "markdown",
   "id": "25928925",
   "metadata": {},
   "source": [
    "### 2. три POS-теггера\n",
    "*stanza, pymorphy, spacy*"
   ]
  },
  {
   "cell_type": "markdown",
   "id": "8aa355ea",
   "metadata": {},
   "source": [
    "#### pymorphy2\n",
    "(использует собственные [теги](https://pymorphy2.readthedocs.io/en/stable/user/grammemes.html#grammeme-docs))"
   ]
  },
  {
   "cell_type": "code",
   "execution_count": 1,
   "id": "d67ce3c8",
   "metadata": {},
   "outputs": [],
   "source": [
    "from pymorphy2 import MorphAnalyzer"
   ]
  },
  {
   "cell_type": "code",
   "execution_count": 2,
   "id": "d627d4ac",
   "metadata": {},
   "outputs": [],
   "source": [
    "morph = MorphAnalyzer()"
   ]
  },
  {
   "cell_type": "code",
   "execution_count": 133,
   "id": "e04d32a4",
   "metadata": {},
   "outputs": [],
   "source": [
    "pos_pymor = []\n",
    "for i in all_tok:\n",
    "    pos_pymor.append(str(morph.parse(i.strip('.'))[0].tag).split(',')[0].split(' ')[0])"
   ]
  },
  {
   "cell_type": "markdown",
   "id": "a9ac7f3f",
   "metadata": {},
   "source": [
    "#### stanza\n",
    "(использует Universal POS tags)"
   ]
  },
  {
   "cell_type": "code",
   "execution_count": 11,
   "id": "f997901a",
   "metadata": {},
   "outputs": [],
   "source": [
    "import stanza"
   ]
  },
  {
   "cell_type": "code",
   "execution_count": 12,
   "id": "1fbb4e1e",
   "metadata": {},
   "outputs": [
    {
     "data": {
      "application/vnd.jupyter.widget-view+json": {
       "model_id": "98e2aca901a74fa6b7eb67db45926c28",
       "version_major": 2,
       "version_minor": 0
      },
      "text/plain": [
       "Downloading https://raw.githubusercontent.com/stanfordnlp/stanza-resources/main/resources_1.4.1.json:   0%|   …"
      ]
     },
     "metadata": {},
     "output_type": "display_data"
    },
    {
     "name": "stderr",
     "output_type": "stream",
     "text": [
      "2022-10-11 12:47:38 INFO: Downloading default packages for language: ru (Russian) ...\n"
     ]
    },
    {
     "data": {
      "application/vnd.jupyter.widget-view+json": {
       "model_id": "59bea2b5744545d5a46c3dcd64e4e728",
       "version_major": 2,
       "version_minor": 0
      },
      "text/plain": [
       "Downloading https://huggingface.co/stanfordnlp/stanza-ru/resolve/v1.4.1/models/default.zip:   0%|          | 0…"
      ]
     },
     "metadata": {},
     "output_type": "display_data"
    },
    {
     "name": "stderr",
     "output_type": "stream",
     "text": [
      "2022-10-11 12:48:39 INFO: Finished downloading models and saved to C:\\Users\\espia\\stanza_resources.\n",
      "2022-10-11 12:48:39 INFO: Checking for updates to resources.json in case models have been updated.  Note: this behavior can be turned off with download_method=None or download_method=DownloadMethod.REUSE_RESOURCES\n"
     ]
    },
    {
     "data": {
      "application/vnd.jupyter.widget-view+json": {
       "model_id": "aa9d127b103e4619978c157880c5049a",
       "version_major": 2,
       "version_minor": 0
      },
      "text/plain": [
       "Downloading https://raw.githubusercontent.com/stanfordnlp/stanza-resources/main/resources_1.4.1.json:   0%|   …"
      ]
     },
     "metadata": {},
     "output_type": "display_data"
    },
    {
     "name": "stderr",
     "output_type": "stream",
     "text": [
      "2022-10-11 12:48:41 INFO: Loading these models for language: ru (Russian):\n",
      "=========================\n",
      "| Processor | Package   |\n",
      "-------------------------\n",
      "| tokenize  | syntagrus |\n",
      "| pos       | syntagrus |\n",
      "=========================\n",
      "\n",
      "2022-10-11 12:48:41 INFO: Use device: cpu\n",
      "2022-10-11 12:48:41 INFO: Loading: tokenize\n",
      "2022-10-11 12:48:41 INFO: Loading: pos\n",
      "2022-10-11 12:48:42 INFO: Done loading processors!\n"
     ]
    }
   ],
   "source": [
    "stanza.download('ru')\n",
    "ppln = stanza.Pipeline('ru', processors='tokenize,pos')"
   ]
  },
  {
   "cell_type": "code",
   "execution_count": 184,
   "id": "b463790a",
   "metadata": {},
   "outputs": [],
   "source": [
    "pos_stanza = []\n",
    "tok_stanza = []\n",
    "ana_stanza = ppln(text)\n",
    "for i in ana_stanza.sentences:\n",
    "    for w in i.words:\n",
    "        pos_stanza.append(w.upos)\n",
    "        tok_stanza.append(w.text)"
   ]
  },
  {
   "cell_type": "markdown",
   "id": "408c3237",
   "metadata": {},
   "source": [
    "##### (опасная зона: исправления)\n",
    "Некоторые слова разделились по дефису или не распознались как сокращения, их нужно вернуть в \"нормальную\" форму, чтобы потом было можно посчитать accuracy."
   ]
  },
  {
   "cell_type": "code",
   "execution_count": 187,
   "id": "9caacfb1",
   "metadata": {},
   "outputs": [],
   "source": [
    "# некоторые исправления\n",
    "tok_stanza[tok_stanza.index('э')] = 'э.'\n",
    "del pos_stanza[tok_stanza.index('э.')+1]\n",
    "del tok_stanza[tok_stanza.index('э.')+1]"
   ]
  },
  {
   "cell_type": "code",
   "execution_count": 188,
   "id": "fcd533df",
   "metadata": {},
   "outputs": [],
   "source": [
    "tok_stanza[tok_stanza.index('электрон')] = 'электрон-позитронный'\n",
    "del tok_stanza[tok_stanza.index('электрон-позитронный')+1]\n",
    "del pos_stanza[tok_stanza.index('электрон-позитронный')+1]\n",
    "del tok_stanza[tok_stanza.index('электрон-позитронный')+1]\n",
    "del pos_stanza[tok_stanza.index('электрон-позитронный')+1]"
   ]
  },
  {
   "cell_type": "code",
   "execution_count": 189,
   "id": "52eaf1e4",
   "metadata": {},
   "outputs": [],
   "source": [
    "tok_stanza[tok_stanza.index('Шалтай')] = 'Шалтай-Болтай'\n",
    "del tok_stanza[tok_stanza.index('Шалтай-Болтай')+1]\n",
    "del pos_stanza[tok_stanza.index('Шалтай-Болтай')+1]\n",
    "del tok_stanza[tok_stanza.index('Шалтай-Болтай')+1]\n",
    "del pos_stanza[tok_stanza.index('Шалтай-Болтай')+1]"
   ]
  },
  {
   "cell_type": "code",
   "execution_count": 197,
   "id": "684cc699",
   "metadata": {},
   "outputs": [],
   "source": [
    "tok_stanza[tok_stanza.index('г')] = 'г.'\n",
    "del pos_stanza[tok_stanza.index('г.')+1]\n",
    "del tok_stanza[tok_stanza.index('г.')+1]"
   ]
  },
  {
   "cell_type": "markdown",
   "id": "06b6eae8",
   "metadata": {},
   "source": [
    "#### spacy\n",
    "(использует Universal POS tags)"
   ]
  },
  {
   "cell_type": "code",
   "execution_count": 36,
   "id": "69b2db5c",
   "metadata": {},
   "outputs": [],
   "source": [
    "import spacy"
   ]
  },
  {
   "cell_type": "code",
   "execution_count": 37,
   "id": "8236cded",
   "metadata": {},
   "outputs": [],
   "source": [
    "nlp = spacy.load(\"ru_core_news_sm\")"
   ]
  },
  {
   "cell_type": "code",
   "execution_count": 208,
   "id": "3667c880",
   "metadata": {},
   "outputs": [],
   "source": [
    "sentences = text.split('\\n')\n",
    "tok_spacy = []\n",
    "pos_spacy = []\n",
    "for sent in sentences:\n",
    "    ana_spacy = nlp(sent)\n",
    "    for token in ana_spacy:\n",
    "        tok_spacy.append(token.text)\n",
    "        pos_spacy.append(token.pos_)"
   ]
  },
  {
   "cell_type": "markdown",
   "id": "dd459efc",
   "metadata": {},
   "source": [
    "##### (опасная зона: исправления)\n",
    "Аналогично ситуации со stanza. (Причем spacy хуже размечает такие случаи)"
   ]
  },
  {
   "cell_type": "code",
   "execution_count": 235,
   "id": "c11ff0ee",
   "metadata": {},
   "outputs": [],
   "source": [
    "# некоторые исправления\n",
    "tok_spacy[tok_spacy.index('э')] = 'э.'\n",
    "del pos_spacy[tok_spacy.index('э.')+1]\n",
    "del tok_spacy[tok_spacy.index('э.')+1]\n",
    "\n",
    "tok_spacy[tok_spacy.index('электрон')] = 'электрон-позитронный'\n",
    "del tok_spacy[tok_spacy.index('электрон-позитронный')+1]\n",
    "del pos_spacy[tok_spacy.index('электрон-позитронный')+1]\n",
    "del tok_spacy[tok_spacy.index('электрон-позитронный')+1]\n",
    "del pos_spacy[tok_spacy.index('электрон-позитронный')+1]\n",
    "\n",
    "tok_spacy[tok_spacy.index('Шалтай')] = 'Шалтай-Болтай'\n",
    "del tok_spacy[tok_spacy.index('Шалтай-Болтай')+1]\n",
    "del pos_spacy[tok_spacy.index('Шалтай-Болтай')+1]\n",
    "del tok_spacy[tok_spacy.index('Шалтай-Болтай')+1]\n",
    "del pos_spacy[tok_spacy.index('Шалтай-Болтай')+1]\n",
    "\n",
    "tok_spacy[tok_spacy.index('г')] = 'г.'\n",
    "del pos_spacy[tok_spacy.index('г.')+1]\n",
    "del tok_spacy[tok_spacy.index('г.')+1]\n",
    "\n",
    "tok_spacy[tok_spacy.index('н')] = 'н.'\n",
    "del pos_spacy[tok_spacy.index('н.')+1]\n",
    "del tok_spacy[tok_spacy.index('н.')+1]\n",
    "\n",
    "tok_spacy[tok_spacy.index('то')] = 'что-то'  # в корпусе только 2 вхождения \"то\", и первое -- то, которое здесь нужно\n",
    "del tok_spacy[tok_spacy.index('что-то')-1]\n",
    "del pos_spacy[tok_spacy.index('что-то')-1]\n",
    "del tok_spacy[tok_spacy.index('что-то')-1]\n",
    "del pos_spacy[tok_spacy.index('что-то')-1]\n",
    "\n",
    "tok_spacy[tok_spacy.index('турецки')] = 'по-турецки'\n",
    "del tok_spacy[tok_spacy.index('по-турецки')-1]\n",
    "del pos_spacy[tok_spacy.index('по-турецки')-1]\n",
    "del tok_spacy[tok_spacy.index('по-турецки')-1]\n",
    "del pos_spacy[tok_spacy.index('по-турецки')-1]"
   ]
  },
  {
   "cell_type": "code",
   "execution_count": 240,
   "id": "de5a614f",
   "metadata": {},
   "outputs": [],
   "source": [
    "tok_spacy[tok_spacy.index('ок')] = 'ок.'\n",
    "del pos_spacy[tok_spacy.index('ок.')+1]\n",
    "del tok_spacy[tok_spacy.index('ок.')+1]"
   ]
  },
  {
   "cell_type": "markdown",
   "id": "07c1c3e2",
   "metadata": {},
   "source": [
    "### 3. Подсчет accuracy + конвертер\n",
    "*Спойлер: у stanza accuracy выше всех*"
   ]
  },
  {
   "cell_type": "code",
   "execution_count": 256,
   "id": "4e2d8877",
   "metadata": {},
   "outputs": [],
   "source": [
    "from sklearn.metrics import accuracy_score"
   ]
  },
  {
   "cell_type": "code",
   "execution_count": 250,
   "id": "51572d49",
   "metadata": {},
   "outputs": [],
   "source": [
    "def convert_st_sp_tags(pos_lst):\n",
    "    tags_st_sp = {'AUX': 'VERB', 'CCONJ': 'CONJ', 'PROPN': 'NOUN', 'SCONJ': 'CONJ', 'SYM': 'PUNCT', 'X': 'PUNCT'}\n",
    "    converted_lst = []\n",
    "    for tag in pos_lst:\n",
    "        if tag in tags_st_sp.keys():\n",
    "            converted_lst.append(tags_st_sp[tag])\n",
    "        else:\n",
    "            converted_lst.append(tag)\n",
    "    return converted_lst"
   ]
  },
  {
   "cell_type": "code",
   "execution_count": 251,
   "id": "3094facb",
   "metadata": {},
   "outputs": [],
   "source": [
    "def convert_pymor_tags(pos_lst):\n",
    "    tags_pymor = {'NOUN': 'NOUN', 'ADJF': 'ADJ', 'ADJS': 'ADJ', 'COMP': 'ADV', 'VERB': 'VERB', \n",
    "                  'INFN': 'VERB', 'PRTF': 'VERB', 'PRTS': 'VERB', 'GRND': 'VERB', 'NUMR': 'NUM', \n",
    "                  'ADVB': 'ADV', 'NPRO': 'PRON', 'PRED': 'ADV', 'PREP': 'ADP', 'CONJ': 'CONJ', \n",
    "                  'PRCL': 'PART', 'INTJ': 'INTJ', 'LATN': 'NOUN', 'PNCT': 'PUNCT', 'NUMB': 'NUM', \n",
    "                  'intg': 'NUM', 'real': 'NUM', 'ROMN': 'NUM', 'UNKN': 'PUNCT'}\n",
    "    converted_lst = []\n",
    "    for tag in pos_lst:\n",
    "        converted_lst.append(tags_pymor[tag])\n",
    "    return converted_lst"
   ]
  },
  {
   "cell_type": "code",
   "execution_count": 258,
   "id": "6ad627f6",
   "metadata": {},
   "outputs": [
    {
     "data": {
      "text/plain": [
       "0.8816705336426914"
      ]
     },
     "execution_count": 258,
     "metadata": {},
     "output_type": "execute_result"
    }
   ],
   "source": [
    "# проверка pymorphy\n",
    "pos__pymor_pred = convert_pymor_tags(pos_pymor)\n",
    "accuracy_score(all_pos, pos__pymor_pred)"
   ]
  },
  {
   "cell_type": "code",
   "execution_count": 259,
   "id": "de1615ad",
   "metadata": {},
   "outputs": [
    {
     "data": {
      "text/plain": [
       "0.9582366589327146"
      ]
     },
     "execution_count": 259,
     "metadata": {},
     "output_type": "execute_result"
    }
   ],
   "source": [
    "# проверка stanza\n",
    "pos_st_pred = convert_st_sp_tags(pos_stanza)\n",
    "accuracy_score(all_pos, pos_st_pred)"
   ]
  },
  {
   "cell_type": "code",
   "execution_count": 260,
   "id": "e9807233",
   "metadata": {},
   "outputs": [
    {
     "data": {
      "text/plain": [
       "0.9443155452436195"
      ]
     },
     "execution_count": 260,
     "metadata": {},
     "output_type": "execute_result"
    }
   ],
   "source": [
    "# проверка spacy\n",
    "pos_sp_pred = convert_st_sp_tags(pos_spacy)\n",
    "accuracy_score(all_pos, pos_sp_pred)"
   ]
  },
  {
   "cell_type": "markdown",
   "id": "bbbe4c59",
   "metadata": {},
   "source": [
    "### 4. Про n-граммы"
   ]
  },
  {
   "cell_type": "markdown",
   "id": "afc86028",
   "metadata": {},
   "source": [
    "1. биграммы с \"не\": \"не\" + прилагательное / наречие / глагол (чтобы различать положительную и отрицательную окраску: случаи типа \"рекомендую\" vs. \"не рекомендую\")\n",
    "2. биграммы прилагательное + существительное (может быть важно в отзывах, потому что, например, \"громкий звук\" в \"громкий звук клавиатуры\" скорее будет в отрицательных отзывах, а \"громкий звук\" в \"громкий звук колонок\" -- скорее в положительных)\n",
    "3. много / мало + существительное / глагол (тоже помогает различить настроение: \"мало интересного\" vs. \"много интересного\", \"мало экшена\" vs. \"много экшена\" (обычно второе чаще как положительное?), \"мало платят\" vs. \"много платят\" и т. п.)\n",
    "    1. тут можно добавить ещё три-грамму с \"чересчур\" (4-грамму, если соединить со 2), которая может менять смысл на противоположный (например, \"громкий звук колонок\" vs. \"чересчур громкий звук колонок\")"
   ]
  }
 ],
 "metadata": {
  "kernelspec": {
   "display_name": "Python 3 (ipykernel)",
   "language": "python",
   "name": "python3"
  },
  "language_info": {
   "codemirror_mode": {
    "name": "ipython",
    "version": 3
   },
   "file_extension": ".py",
   "mimetype": "text/x-python",
   "name": "python",
   "nbconvert_exporter": "python",
   "pygments_lexer": "ipython3",
   "version": "3.9.7"
  }
 },
 "nbformat": 4,
 "nbformat_minor": 5
}
